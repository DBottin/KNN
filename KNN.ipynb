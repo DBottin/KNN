{
  "nbformat": 4,
  "nbformat_minor": 0,
  "metadata": {
    "colab": {
      "name": "KNN.ipynb",
      "provenance": []
    },
    "kernelspec": {
      "name": "python3",
      "display_name": "Python 3"
    },
    "language_info": {
      "name": "python"
    }
  },
  "cells": [
    {
      "cell_type": "code",
      "execution_count": 1,
      "metadata": {
        "id": "v1xSWPwla8-W"
      },
      "outputs": [],
      "source": [
        "import numpy as np\n",
        "import pandas as pd\n",
        "from sklearn import datasets\n",
        "iris = datasets.load_iris()"
      ]
    },
    {
      "cell_type": "code",
      "source": [
        "Xsl = iris[\"data\"][:, 0:1]  # sepal length array\n",
        "Xsw = iris[\"data\"][:, 1:2]  # sepal width array\n",
        "Xpl = iris[\"data\"][:, 2:3]  # petal length array\n",
        "Xpw = iris[\"data\"][:, 3:]  # petal width array\n",
        "y = iris.target"
      ],
      "metadata": {
        "id": "s8Mj2pRMbdfV"
      },
      "execution_count": 2,
      "outputs": []
    },
    {
      "cell_type": "markdown",
      "source": [
        "\"You normalize your data in another table\""
      ],
      "metadata": {
        "id": "AVbD29s4-l3h"
      }
    },
    {
      "cell_type": "code",
      "source": [
        "sl_norm = (Xsl - Xsl.min())/ (Xsl.max() - Xsl.min())\n",
        "new_sl = (4.8 - Xsl.min())/ (Xsl.max() - Xsl.min())\n",
        "\n",
        "sw_norm = (Xsw - Xsw.min())/ (Xsw.max() - Xsw.min())\n",
        "new_sw = (2.5 - Xsw.min())/ (Xsw.max() - Xsw.min())\n",
        "\n",
        "pl_norm = (Xpl - Xpl.min())/ (Xpl.max() - Xpl.min())\n",
        "new_pl = (5.3 - Xpl.min())/ (Xpl.max() - Xpl.min())\n",
        "\n",
        "pw_norm = (Xpw - Xpw.min())/ (Xpw.max() - Xpw.min())\n",
        "new_pw = (2.4 - Xpw.min())/ (Xpw.max() - Xpw.min())"
      ],
      "metadata": {
        "id": "Y3Qc1q8h3yiN"
      },
      "execution_count": 3,
      "outputs": []
    },
    {
      "cell_type": "markdown",
      "source": [
        "\"You code a simple euclid distance function\"\n",
        "\n",
        "und\n",
        "\n",
        "\"You take a point and calculate the distance to all points\""
      ],
      "metadata": {
        "id": "Vh0l60fm-poy"
      }
    },
    {
      "cell_type": "code",
      "source": [
        "distances_sl = np.linalg.norm(sl_norm - new_sl, axis=1)\n",
        "\n",
        "distances_sw = np.linalg.norm(sw_norm - new_sw, axis=1)\n",
        "\n",
        "distances_pl = np.linalg.norm(pl_norm - new_pl, axis=1)\n",
        "\n",
        "distances_pw = np.linalg.norm(pw_norm - new_pw, axis=1)"
      ],
      "metadata": {
        "id": "4HlRPRQghjfz"
      },
      "execution_count": 4,
      "outputs": []
    },
    {
      "cell_type": "markdown",
      "source": [
        "\"You take the list from above and sort it\""
      ],
      "metadata": {
        "id": "KslrMJbA-Jmq"
      }
    },
    {
      "cell_type": "code",
      "source": [
        "k = 10\n",
        "nearest_neighbor_ids_sl = distances_sl.argsort()[:k]\n",
        "nearest_neighbor_ids_sl"
      ],
      "metadata": {
        "colab": {
          "base_uri": "https://localhost:8080/"
        },
        "id": "K88p-OqlhvBr",
        "outputId": "ecc7bbba-91a9-47e6-ccd7-87a47824f786"
      },
      "execution_count": 5,
      "outputs": [
        {
          "output_type": "execute_result",
          "data": {
            "text/plain": [
              "array([ 30,  45,  12,  11,  24,   2,  29,   9,  57, 106])"
            ]
          },
          "metadata": {},
          "execution_count": 5
        }
      ]
    },
    {
      "cell_type": "code",
      "source": [
        "nearest_neighbor_ids_sw = distances_sw.argsort()[:k]\n",
        "nearest_neighbor_ids_sw"
      ],
      "metadata": {
        "colab": {
          "base_uri": "https://localhost:8080/"
        },
        "id": "3Y-q5tUI90yX",
        "outputId": "7d9a614f-1cc3-48af-8958-6c7edc9c83ad"
      },
      "execution_count": 6,
      "outputs": [
        {
          "output_type": "execute_result",
          "data": {
            "text/plain": [
              "array([ 72, 108, 106, 113,  98,  69, 146,  89,  90, 134])"
            ]
          },
          "metadata": {},
          "execution_count": 6
        }
      ]
    },
    {
      "cell_type": "code",
      "source": [
        "nearest_neighbor_ids_pl = distances_pl.argsort()[:k]\n",
        "nearest_neighbor_ids_pl"
      ],
      "metadata": {
        "colab": {
          "base_uri": "https://localhost:8080/"
        },
        "id": "1-Nymot-90tK",
        "outputId": "2794ac55-219b-4554-a8af-81a67b0aeff5"
      },
      "execution_count": 7,
      "outputs": [
        {
          "output_type": "execute_result",
          "data": {
            "text/plain": [
              "array([115, 111, 147, 145, 139, 148, 133, 101, 116, 137])"
            ]
          },
          "metadata": {},
          "execution_count": 7
        }
      ]
    },
    {
      "cell_type": "code",
      "source": [
        "nearest_neighbor_ids_pw = distances_pw.argsort()[:k]\n",
        "nearest_neighbor_ids_pw"
      ],
      "metadata": {
        "colab": {
          "base_uri": "https://localhost:8080/"
        },
        "id": "ccrR_b3R90jz",
        "outputId": "dbe86eaa-67ca-42b4-99c9-0055fcf195fe"
      },
      "execution_count": 8,
      "outputs": [
        {
          "output_type": "execute_result",
          "data": {
            "text/plain": [
              "array([136, 114, 140, 120, 118, 135, 145, 143, 141, 115])"
            ]
          },
          "metadata": {},
          "execution_count": 8
        }
      ]
    },
    {
      "cell_type": "markdown",
      "source": [
        "\"You take the max to determine the target class\""
      ],
      "metadata": {
        "id": "RtIHPrM7-Grb"
      }
    },
    {
      "cell_type": "code",
      "source": [
        "nearest_neighbor_flowers_sl = y[nearest_neighbor_ids_sl]\n",
        "nearest_neighbor_flowers_sl"
      ],
      "metadata": {
        "colab": {
          "base_uri": "https://localhost:8080/"
        },
        "id": "ED45B1e2h1TM",
        "outputId": "d4d7d30a-1646-4950-9748-3d42821e61dc"
      },
      "execution_count": 9,
      "outputs": [
        {
          "output_type": "execute_result",
          "data": {
            "text/plain": [
              "array([0, 0, 0, 0, 0, 0, 0, 0, 1, 2])"
            ]
          },
          "metadata": {},
          "execution_count": 9
        }
      ]
    },
    {
      "cell_type": "code",
      "source": [
        "nearest_neighbor_flowers_sw = y[nearest_neighbor_ids_sw]\n",
        "nearest_neighbor_flowers_sw"
      ],
      "metadata": {
        "colab": {
          "base_uri": "https://localhost:8080/"
        },
        "id": "zjArQODP-M8y",
        "outputId": "2abe9077-ba2d-4f0d-8eb7-9b45ac7505dc"
      },
      "execution_count": 10,
      "outputs": [
        {
          "output_type": "execute_result",
          "data": {
            "text/plain": [
              "array([1, 2, 2, 2, 1, 1, 2, 1, 1, 2])"
            ]
          },
          "metadata": {},
          "execution_count": 10
        }
      ]
    },
    {
      "cell_type": "code",
      "source": [
        "nearest_neighbor_flowers_pl = y[nearest_neighbor_ids_pl]\n",
        "nearest_neighbor_flowers_pl"
      ],
      "metadata": {
        "colab": {
          "base_uri": "https://localhost:8080/"
        },
        "id": "kcehyMWb-M6T",
        "outputId": "5a609102-0252-428e-a35c-158b95fc8205"
      },
      "execution_count": 11,
      "outputs": [
        {
          "output_type": "execute_result",
          "data": {
            "text/plain": [
              "array([2, 2, 2, 2, 2, 2, 2, 2, 2, 2])"
            ]
          },
          "metadata": {},
          "execution_count": 11
        }
      ]
    },
    {
      "cell_type": "code",
      "source": [
        "nearest_neighbor_flowers_pw = y[nearest_neighbor_ids_pw]\n",
        "nearest_neighbor_flowers_pw"
      ],
      "metadata": {
        "colab": {
          "base_uri": "https://localhost:8080/"
        },
        "id": "UVOUnHvG-M3q",
        "outputId": "e38e6a5e-699a-4f9f-d989-fffddc7495c5"
      },
      "execution_count": 12,
      "outputs": [
        {
          "output_type": "execute_result",
          "data": {
            "text/plain": [
              "array([2, 2, 2, 2, 2, 2, 2, 2, 2, 2])"
            ]
          },
          "metadata": {},
          "execution_count": 12
        }
      ]
    },
    {
      "cell_type": "markdown",
      "source": [
        "Genau wie bei der LogisticRegression Aufgabe ist diese Pflanze laut dem Sepal eher keine Iris-virginica (definitiv nicht laut length, eventuell laut width), aber nach dem Petal definitiv eine Iris-virginica (laut length und width).\n",
        "\n",
        "Im Gegensatz zur LogisticRegression scheint es hier aber wahrscheinlicher, dass es eine Iris-virginica ist, da 2.5/4 Werten dafür sprechen. Schlüssig ist dies aber bei beiden Methoden nicht."
      ],
      "metadata": {
        "id": "X511N4OIASma"
      }
    }
  ]
}